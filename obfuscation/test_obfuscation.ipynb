{
 "cells": [
  {
   "cell_type": "code",
   "execution_count": null,
   "metadata": {},
   "outputs": [],
   "source": [
    "from fnc.matching import matching\n",
    "\n",
    "# directories\n",
    "temp_dir = '../CASIA1'\n",
    "\n",
    "def remove_detail(img): \n",
    "\n",
    "    return img\n",
    "\n",
    "def add_arbitrary_detail(img): \n",
    "\n",
    "    return img\n",
    "\n",
    "def obfuscate(img):\n",
    "\n",
    "    return img\n",
    "\n",
    "def test(): \n",
    "    matching(temp_dir)\n",
    "\n",
    "# "
   ]
  },
  {
   "cell_type": "code",
   "execution_count": null,
   "metadata": {},
   "outputs": [],
   "source": []
  }
 ],
 "metadata": {
  "language_info": {
   "name": "python"
  },
  "orig_nbformat": 4
 },
 "nbformat": 4,
 "nbformat_minor": 2
}
