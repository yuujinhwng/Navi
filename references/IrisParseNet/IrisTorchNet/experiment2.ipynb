{
 "cells": [
  {
   "cell_type": "code",
   "execution_count": 1,
   "metadata": {},
   "outputs": [
    {
     "name": "stdout",
     "output_type": "stream",
     "text": [
      "Skipping layer [data, Input, Input]: not found in caffemodel2pytorch.modules dict\n",
      "Skipping layer [conv1_1_bn, BN, BN]: not found in caffemodel2pytorch.modules dict\n",
      "Skipping layer [conv1_2_bn, BN, BN]: not found in caffemodel2pytorch.modules dict\n",
      "Skipping layer [conv2_1_bn, BN, BN]: not found in caffemodel2pytorch.modules dict\n",
      "Skipping layer [conv2_2_bn, BN, BN]: not found in caffemodel2pytorch.modules dict\n",
      "Skipping layer [conv3_1_bn, BN, BN]: not found in caffemodel2pytorch.modules dict\n",
      "Skipping layer [conv3_2_bn, BN, BN]: not found in caffemodel2pytorch.modules dict\n",
      "Skipping layer [conv3_3_bn, BN, BN]: not found in caffemodel2pytorch.modules dict\n",
      "Skipping layer [conv4_1_bn, BN, BN]: not found in caffemodel2pytorch.modules dict\n",
      "Skipping layer [conv4_2_bn, BN, BN]: not found in caffemodel2pytorch.modules dict\n",
      "Skipping layer [conv4_3_bn, BN, BN]: not found in caffemodel2pytorch.modules dict\n",
      "Skipping layer [conv5_1_bn, BN, BN]: not found in caffemodel2pytorch.modules dict\n",
      "Skipping layer [conv5_2_bn, BN, BN]: not found in caffemodel2pytorch.modules dict\n",
      "Skipping layer [conv5_3_bn, BN, BN]: not found in caffemodel2pytorch.modules dict\n",
      "Skipping layer [conv5_3_pool1_conv/bn, BN, BN]: not found in caffemodel2pytorch.modules dict\n",
      "Skipping layer [conv5_3_pool1_interp, Interp, Interp]: not found in caffemodel2pytorch.modules dict\n",
      "Skipping layer [conv_3x3_1_bn, BN, BN]: not found in caffemodel2pytorch.modules dict\n",
      "Skipping layer [conv_3x3_2_bn, BN, BN]: not found in caffemodel2pytorch.modules dict\n",
      "Skipping layer [conv_3x3_3_bn, BN, BN]: not found in caffemodel2pytorch.modules dict\n",
      "Skipping layer [conv_1x1_0_bn, BN, BN]: not found in caffemodel2pytorch.modules dict\n",
      "Skipping layer [conv5_3_concat, Concat, Concat]: not found in caffemodel2pytorch.modules dict\n",
      "Skipping layer [conv5_4/bn, BN, BN]: not found in caffemodel2pytorch.modules dict\n",
      "Skipping layer [Sigmoid_5_5, Sigmoid, Sigmoid]: not found in caffemodel2pytorch.modules dict\n",
      "Skipping layer [fusion_5_5, Concat, Concat]: not found in caffemodel2pytorch.modules dict\n",
      "Skipping layer [up_4, Interp, Interp]: not found in caffemodel2pytorch.modules dict\n",
      "Skipping layer [conv4_D1/bn, BN, BN]: not found in caffemodel2pytorch.modules dict\n",
      "Skipping layer [conv4_D2/bn, BN, BN]: not found in caffemodel2pytorch.modules dict\n",
      "Skipping layer [concat_4D, Concat, Concat]: not found in caffemodel2pytorch.modules dict\n",
      "Skipping layer [up_3, Interp, Interp]: not found in caffemodel2pytorch.modules dict\n",
      "Skipping layer [conv3_D1/bn, BN, BN]: not found in caffemodel2pytorch.modules dict\n",
      "Skipping layer [conv3_D2/bn, BN, BN]: not found in caffemodel2pytorch.modules dict\n",
      "Skipping layer [concat_3D, Concat, Concat]: not found in caffemodel2pytorch.modules dict\n",
      "Skipping layer [up_2, Interp, Interp]: not found in caffemodel2pytorch.modules dict\n",
      "Skipping layer [conv2_D1/bn, BN, BN]: not found in caffemodel2pytorch.modules dict\n",
      "Skipping layer [conv2_D2/bn, BN, BN]: not found in caffemodel2pytorch.modules dict\n",
      "Skipping layer [concat_2D, Concat, Concat]: not found in caffemodel2pytorch.modules dict\n",
      "Skipping layer [up_1, Interp, Interp]: not found in caffemodel2pytorch.modules dict\n",
      "Skipping layer [conv1_D1/bn, BN, BN]: not found in caffemodel2pytorch.modules dict\n",
      "Skipping layer [conv1_D2/bn, BN, BN]: not found in caffemodel2pytorch.modules dict\n",
      "Skipping layer [concat_1D, Concat, Concat]: not found in caffemodel2pytorch.modules dict\n",
      "Skipping layer [conv0_D/bn, BN, BN]: not found in caffemodel2pytorch.modules dict\n",
      "Skipping layer [slice_final, Slice, Slice]: not found in caffemodel2pytorch.modules dict\n",
      "Skipping layer [Sigmoid_fuse_pupil, Sigmoid, Sigmoid]: not found in caffemodel2pytorch.modules dict\n",
      "Skipping layer [Sigmoid_fuse_mask, Sigmoid, Sigmoid]: not found in caffemodel2pytorch.modules dict\n",
      "Skipping layer [Sigmoid_fuse_iris, Sigmoid, Sigmoid]: not found in caffemodel2pytorch.modules dict\n",
      "Skipping layer [silence, Silence, Silence]: not found in caffemodel2pytorch.modules dict\n",
      "caffemodel2pytorch: loading model from [./miche_iris_iter_30000.caffemodel] in HDF5 format failed [No module named 'h5py'], falling back to caffemodel format\n",
      "caffemodel2pytorch: loaded model from [./miche_iris_iter_30000.caffemodel] in caffemodel format\n"
     ]
    },
    {
     "ename": "AssertionError",
     "evalue": "Variable [conv5_3_concat] does not exist. Pass it as a keyword argument or provide a layer which produces it.",
     "output_type": "error",
     "traceback": [
      "\u001b[0;31m---------------------------------------------------------------------------\u001b[0m",
      "\u001b[0;31mAssertionError\u001b[0m                            Traceback (most recent call last)",
      "\u001b[0;32m/var/folders/ml/_lpgwjsj5sxgv98y92v83w680000gn/T/ipykernel_15474/3787533905.py\u001b[0m in \u001b[0;36m<module>\u001b[0;34m\u001b[0m\n\u001b[1;32m     12\u001b[0m \u001b[0;34m\u001b[0m\u001b[0m\n\u001b[1;32m     13\u001b[0m \u001b[0;31m# outputs a dict of NumPy arrays, data layer is sidestepped\u001b[0m\u001b[0;34m\u001b[0m\u001b[0;34m\u001b[0m\u001b[0m\n\u001b[0;32m---> 14\u001b[0;31m \u001b[0mblobs_out\u001b[0m \u001b[0;34m=\u001b[0m \u001b[0mnet\u001b[0m\u001b[0;34m.\u001b[0m\u001b[0mforward\u001b[0m\u001b[0;34m(\u001b[0m\u001b[0mdata\u001b[0m \u001b[0;34m=\u001b[0m \u001b[0mnp\u001b[0m\u001b[0;34m.\u001b[0m\u001b[0mzeros\u001b[0m\u001b[0;34m(\u001b[0m\u001b[0;34m(\u001b[0m\u001b[0;36m8\u001b[0m\u001b[0;34m,\u001b[0m \u001b[0;36m3\u001b[0m\u001b[0;34m,\u001b[0m \u001b[0;36m224\u001b[0m\u001b[0;34m,\u001b[0m \u001b[0;36m224\u001b[0m\u001b[0;34m)\u001b[0m\u001b[0;34m,\u001b[0m \u001b[0mdtype\u001b[0m \u001b[0;34m=\u001b[0m \u001b[0mnp\u001b[0m\u001b[0;34m.\u001b[0m\u001b[0mfloat32\u001b[0m\u001b[0;34m)\u001b[0m\u001b[0;34m)\u001b[0m\u001b[0;34m\u001b[0m\u001b[0;34m\u001b[0m\u001b[0m\n\u001b[0m\u001b[1;32m     15\u001b[0m \u001b[0;34m\u001b[0m\u001b[0m\n\u001b[1;32m     16\u001b[0m \u001b[0;31m# access the last layer\u001b[0m\u001b[0;34m\u001b[0m\u001b[0;34m\u001b[0m\u001b[0m\n",
      "\u001b[0;32m~/Documents/GitHub/Navi/references/IrisParseNet/IrisParseNetTorch/caffemodel2pytorch.py\u001b[0m in \u001b[0;36mforward\u001b[0;34m(self, data, **variables)\u001b[0m\n\u001b[1;32m    117\u001b[0m                 \u001b[0;32mfor\u001b[0m \u001b[0mmodule\u001b[0m \u001b[0;32min\u001b[0m \u001b[0;34m[\u001b[0m\u001b[0mmodule\u001b[0m \u001b[0;32mfor\u001b[0m \u001b[0mmodule\u001b[0m \u001b[0;32min\u001b[0m \u001b[0mself\u001b[0m\u001b[0;34m.\u001b[0m\u001b[0mchildren\u001b[0m\u001b[0;34m(\u001b[0m\u001b[0;34m)\u001b[0m \u001b[0;32mif\u001b[0m \u001b[0;32mnot\u001b[0m \u001b[0mall\u001b[0m\u001b[0;34m(\u001b[0m\u001b[0mname\u001b[0m \u001b[0;32min\u001b[0m \u001b[0mvariables\u001b[0m \u001b[0;32mfor\u001b[0m \u001b[0mname\u001b[0m \u001b[0;32min\u001b[0m \u001b[0mmodule\u001b[0m\u001b[0;34m.\u001b[0m\u001b[0mcaffe_output_variable_names\u001b[0m\u001b[0;34m)\u001b[0m\u001b[0;34m]\u001b[0m\u001b[0;34m:\u001b[0m\u001b[0;34m\u001b[0m\u001b[0;34m\u001b[0m\u001b[0m\n\u001b[1;32m    118\u001b[0m                         \u001b[0;32mfor\u001b[0m \u001b[0mname\u001b[0m \u001b[0;32min\u001b[0m \u001b[0mmodule\u001b[0m\u001b[0;34m.\u001b[0m\u001b[0mcaffe_input_variable_names\u001b[0m\u001b[0;34m:\u001b[0m\u001b[0;34m\u001b[0m\u001b[0;34m\u001b[0m\u001b[0m\n\u001b[0;32m--> 119\u001b[0;31m                                 \u001b[0;32massert\u001b[0m \u001b[0mname\u001b[0m \u001b[0;32min\u001b[0m \u001b[0mvariables\u001b[0m\u001b[0;34m,\u001b[0m \u001b[0;34m'Variable [{}] does not exist. Pass it as a keyword argument or provide a layer which produces it.'\u001b[0m\u001b[0;34m.\u001b[0m\u001b[0mformat\u001b[0m\u001b[0;34m(\u001b[0m\u001b[0mname\u001b[0m\u001b[0;34m)\u001b[0m\u001b[0;34m\u001b[0m\u001b[0;34m\u001b[0m\u001b[0m\n\u001b[0m\u001b[1;32m    120\u001b[0m                         \u001b[0minputs\u001b[0m \u001b[0;34m=\u001b[0m \u001b[0;34m[\u001b[0m\u001b[0mvariables\u001b[0m\u001b[0;34m[\u001b[0m\u001b[0mname\u001b[0m\u001b[0;34m]\u001b[0m \u001b[0;32mif\u001b[0m \u001b[0mpropagate_down\u001b[0m \u001b[0;32melse\u001b[0m \u001b[0mvariables\u001b[0m\u001b[0;34m[\u001b[0m\u001b[0mname\u001b[0m\u001b[0;34m]\u001b[0m\u001b[0;34m.\u001b[0m\u001b[0mdetach\u001b[0m\u001b[0;34m(\u001b[0m\u001b[0;34m)\u001b[0m \u001b[0;32mfor\u001b[0m \u001b[0mname\u001b[0m\u001b[0;34m,\u001b[0m \u001b[0mpropagate_down\u001b[0m \u001b[0;32min\u001b[0m \u001b[0mzip\u001b[0m\u001b[0;34m(\u001b[0m\u001b[0mmodule\u001b[0m\u001b[0;34m.\u001b[0m\u001b[0mcaffe_input_variable_names\u001b[0m\u001b[0;34m,\u001b[0m \u001b[0mmodule\u001b[0m\u001b[0;34m.\u001b[0m\u001b[0mcaffe_propagate_down\u001b[0m\u001b[0;34m)\u001b[0m\u001b[0;34m]\u001b[0m\u001b[0;34m\u001b[0m\u001b[0;34m\u001b[0m\u001b[0m\n\u001b[1;32m    121\u001b[0m                         \u001b[0moutputs\u001b[0m \u001b[0;34m=\u001b[0m \u001b[0mmodule\u001b[0m\u001b[0;34m(\u001b[0m\u001b[0;34m*\u001b[0m\u001b[0minputs\u001b[0m\u001b[0;34m)\u001b[0m\u001b[0;34m\u001b[0m\u001b[0;34m\u001b[0m\u001b[0m\n",
      "\u001b[0;31mAssertionError\u001b[0m: Variable [conv5_3_concat] does not exist. Pass it as a keyword argument or provide a layer which produces it."
     ]
    }
   ],
   "source": [
    "import numpy as np\n",
    "import caffemodel2pytorch as caffe\n",
    "\n",
    "# caffe.set_mode_gpu()\n",
    "# caffe.set_device(0)\n",
    "\n",
    "# === LOADING AND USING THE NET IN EVAL MODE ===\n",
    "\n",
    "net = caffe.Net('./deploy_bottom_up.pt', caffe.TEST, weights='./miche_iris_iter_30000.caffemodel', caffe_proto='https://raw.githubusercontent.com/xiamenwcy/extended-caffe/master/src/caffe/proto/caffe.proto')\n",
    "# caffe_proto = 'https://raw.githubusercontent.com/BVLC/caffe/master/src/caffe/proto/caffe.proto'\n",
    "# 'https://raw.githubusercontent.com/xiamenwcy/extended-caffe/master/src/caffe/proto/caffe.proto'\n",
    "\n",
    "# outputs a dict of NumPy arrays, data layer is sidestepped\n",
    "blobs_out = net.forward(data = np.zeros((8, 3, 224, 224), dtype = np.float32))\n",
    "\n",
    "# access the last layer\n",
    "layer = net.layers[-1]\n",
    "\n",
    "# converts and provides the output as NumPy array\n",
    "numpy_array = net.blobs['conv1_1'].data\n",
    "\n",
    "# access the loss weights\n",
    "loss_weights = net.blob_loss_weights\n",
    "\n",
    "# === BASIC OPTIMIZER ===\n",
    "\n",
    "# this example uses paths from https://github.com/ppengtang/oicr\n",
    "\n",
    "# # create an SGD solver, loads the net in train mode\n",
    "# # it knows about base_lr, weight_decay, momentum, lr_mult, decay_mult, iter_size, lr policy step, step_size, gamma\n",
    "# # it finds train.prototxt from the solver.prototxt's train_net or net parameters\n",
    "# solver = caffe.SGDSolver('oicr/models/VGG16/solver.prototxt')\n",
    "\n",
    "# # load pretrained weights\n",
    "# solver.net.copy_from('oicr/data/imagenet_models/VGG16.v2.caffemodel')\n",
    "\n",
    "# # runs one iteration of forward, backward, optimization; returns a float loss value\n",
    "# # data layer must be registered or inputs must be provided as keyword arguments\n",
    "# loss = solver.step(1)\n"
   ]
  },
  {
   "cell_type": "code",
   "execution_count": null,
   "metadata": {},
   "outputs": [],
   "source": [
    "# load dumped VGG16 in PyTorch\n",
    "import collections, torch, torchvision, numpy, h5py\n",
    "model = torchvision.models.vgg16()\n",
    "model.features = torch.nn.Sequential(collections.OrderedDict(zip(['conv1_1', 'relu1_1', 'conv1_2', 'relu1_2', 'pool1', 'conv2_1', 'relu2_1', 'conv2_2', 'relu2_2', 'pool2', 'conv3_1', 'relu3_1', 'conv3_2', 'relu3_2', 'conv3_3', 'relu3_3', 'pool3', 'conv4_1', 'relu4_1', 'conv4_2', 'relu4_2', 'conv4_3', 'relu4_3', 'pool4', 'conv5_1', 'relu5_1', 'conv5_2', 'relu5_2', 'conv5_3', 'relu5_3', 'pool5'], model.features)))\n",
    "model.classifier = torch.nn.Sequential(collections.OrderedDict(zip(['fc6', 'relu6', 'drop6', 'fc7', 'relu7', 'drop7', 'fc8'], model.classifier)))\n",
    "\n",
    "state_dict = h5py.File('converted.h5', 'r') # torch.load('VGG_ILSVRC_16_layers.caffemodel.pt')\n",
    "model.load_state_dict({l : torch.from_numpy(numpy.array(v)).view_as(p) for k, v in state_dict.items() for l, p in model.named_parameters() if k in l})"
   ]
  }
 ],
 "metadata": {
  "interpreter": {
   "hash": "b0fa6594d8f4cbf19f97940f81e996739fb7646882a419484c72d19e05852a7e"
  },
  "kernelspec": {
   "display_name": "Python 3.9.12 64-bit",
   "language": "python",
   "name": "python3"
  },
  "language_info": {
   "codemirror_mode": {
    "name": "ipython",
    "version": 3
   },
   "file_extension": ".py",
   "mimetype": "text/x-python",
   "name": "python",
   "nbconvert_exporter": "python",
   "pygments_lexer": "ipython3",
   "version": "3.9.12"
  },
  "orig_nbformat": 4
 },
 "nbformat": 4,
 "nbformat_minor": 2
}
